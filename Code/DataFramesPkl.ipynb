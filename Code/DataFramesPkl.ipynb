{
 "cells": [
  {
   "cell_type": "markdown",
   "id": "computational-publisher",
   "metadata": {},
   "source": [
    "# Building NMF Topic Model\n",
    "components = 30"
   ]
  },
  {
   "cell_type": "code",
   "execution_count": 2,
   "id": "appropriate-factory",
   "metadata": {},
   "outputs": [],
   "source": [
    "import pandas as pd \n",
    "import streamlit as st \n",
    "import altair as alt\n",
    "from PIL import Image \n",
    "import pandas as pd\n",
    "import numpy as np\n",
    "import nltk\n",
    "from nltk.corpus import stopwords\n",
    "from sklearn.feature_extraction.text import CountVectorizer, TfidfVectorizer, ENGLISH_STOP_WORDS\n",
    "from sklearn.metrics.pairwise import cosine_similarity \n",
    "from sklearn.decomposition import NMF, TruncatedSVD, LatentDirichletAllocation\n",
    "import warnings\n",
    "warnings.filterwarnings(\"ignore\")\n",
    "from corextopic import corextopic as ct\n",
    "from corextopic import vis_topic as vt"
   ]
  },
  {
   "cell_type": "code",
   "execution_count": 3,
   "id": "consecutive-proceeding",
   "metadata": {},
   "outputs": [],
   "source": [
    "# read in wine data\n",
    "# drop duplicates and fill na with zeros \n",
    "WINE = pd.read_csv('WINENLP.csv')\n",
    "WINE.drop_duplicates(subset=['description'],inplace=True)\n",
    "WINE.fillna(0,inplace=True)\n",
    "shp = WINE.shape\n",
    "shp[0]\n",
    "WINES = WINE[['description','country','province','variety','price','title']]\n",
    "WINES.reset_index(inplace=True,drop=True)"
   ]
  },
  {
   "cell_type": "code",
   "execution_count": 4,
   "id": "moderate-pledge",
   "metadata": {},
   "outputs": [],
   "source": [
    "\n",
    "CORPUS1 = WINES['description']\n"
   ]
  },
  {
   "cell_type": "code",
   "execution_count": 5,
   "id": "military-adobe",
   "metadata": {},
   "outputs": [],
   "source": [
    "\n",
    "STOP = stopwords.words('english')\n",
    "STOP += ['notes','wine','drink','region','nan','nose',\n",
    "        'like','made','shows','parts','style','followed','amounts','mouth','flavors']"
   ]
  },
  {
   "cell_type": "code",
   "execution_count": 6,
   "id": "adjacent-cleaners",
   "metadata": {},
   "outputs": [
    {
     "data": {
      "text/plain": [
       "<119955x29722 sparse matrix of type '<class 'numpy.float64'>'\n",
       "\twith 2693261 stored elements in Compressed Sparse Row format>"
      ]
     },
     "execution_count": 6,
     "metadata": {},
     "output_type": "execute_result"
    }
   ],
   "source": [
    "# instantiate Tfid vectorizer\n",
    "TF_IDF = TfidfVectorizer(stop_words=STOP,token_pattern = r'(?u)\\b[A-Za-z]+\\b')\n",
    "\n",
    "# fit transform returns Sparse Matrix \n",
    "Description_Matrix = TF_IDF.fit_transform(CORPUS1)\n",
    "\n",
    "# words used\n",
    "words = TF_IDF.get_feature_names()\n",
    "\n",
    "Description_Matrix\n"
   ]
  },
  {
   "cell_type": "code",
   "execution_count": 7,
   "id": "automatic-november",
   "metadata": {},
   "outputs": [
    {
     "name": "stdout",
     "output_type": "stream",
     "text": [
      "How many topics: 30\n"
     ]
    }
   ],
   "source": [
    "def fit(df):\n",
    "    num_components = int(input(\"How many topics: \"))\n",
    "    # instantiating Non Negative Matrix Factorization Model\n",
    "    nmf = NMF(n_components=num_components,random_state=84)\n",
    "    # fitting model \n",
    "    nmf.fit(df)\n",
    "    return nmf , num_components\n",
    "nmf = fit(Description_Matrix)"
   ]
  },
  {
   "cell_type": "code",
   "execution_count": 8,
   "id": "private-fence",
   "metadata": {},
   "outputs": [],
   "source": [
    "Topic_Matrix = nmf[0].transform(Description_Matrix)\n",
    "Topic_Matrix_df = pd.DataFrame(Topic_Matrix).add_prefix('topic_')\n",
    "Topics = pd.concat([Topic_Matrix_df, WINES], axis=1)\n",
    "Topics.dropna(inplace=True)\n",
    "Topics.reset_index(inplace=True,drop=True)"
   ]
  },
  {
   "cell_type": "code",
   "execution_count": 9,
   "id": "gorgeous-tampa",
   "metadata": {},
   "outputs": [],
   "source": [
    "from sklearn.metrics.pairwise import cosine_similarity\n",
    "Topic_Matrix_Partial = Topic_Matrix[:20000]"
   ]
  },
  {
   "cell_type": "markdown",
   "id": "three-surface",
   "metadata": {},
   "source": [
    "# Building DataFrames for Pickling\n",
    "Use in streamlit app"
   ]
  },
  {
   "cell_type": "code",
   "execution_count": 10,
   "id": "moved-samba",
   "metadata": {},
   "outputs": [],
   "source": [
    "Cosine_Matrix = cosine_similarity(Topic_Matrix_Partial)"
   ]
  },
  {
   "cell_type": "code",
   "execution_count": 11,
   "id": "little-article",
   "metadata": {},
   "outputs": [],
   "source": [
    "COS_mat = pd.DataFrame(Cosine_Matrix)"
   ]
  },
  {
   "cell_type": "code",
   "execution_count": 29,
   "id": "distinct-uniform",
   "metadata": {},
   "outputs": [],
   "source": [
    "df_similarity = pd.DataFrame(COS_mat[0])"
   ]
  },
  {
   "cell_type": "code",
   "execution_count": 43,
   "id": "funded-disclosure",
   "metadata": {},
   "outputs": [],
   "source": [
    "df = WINES[['price','description','variety','title']]"
   ]
  },
  {
   "cell_type": "code",
   "execution_count": 45,
   "id": "bored-debut",
   "metadata": {},
   "outputs": [],
   "source": [
    "Attributes = df[:20000]"
   ]
  },
  {
   "cell_type": "code",
   "execution_count": 47,
   "id": "close-macintosh",
   "metadata": {},
   "outputs": [],
   "source": [
    "Attributes['Similarity'] = df_similarity"
   ]
  },
  {
   "cell_type": "code",
   "execution_count": 54,
   "id": "demonstrated-unknown",
   "metadata": {},
   "outputs": [],
   "source": [
    "Attributes.to_pickle('/Users/jamesgardner/Desktop/Projects/NLP/attributes.pkl')"
   ]
  },
  {
   "cell_type": "code",
   "execution_count": 53,
   "id": "tough-reason",
   "metadata": {},
   "outputs": [],
   "source": [
    "COS_mat.to_pickle('/Users/jamesgardner/Desktop/Projects/NLP/cosine_mat.pkl')"
   ]
  }
 ],
 "metadata": {
  "kernelspec": {
   "display_name": "Python [conda env:metis] *",
   "language": "python",
   "name": "conda-env-metis-py"
  },
  "language_info": {
   "codemirror_mode": {
    "name": "ipython",
    "version": 3
   },
   "file_extension": ".py",
   "mimetype": "text/x-python",
   "name": "python",
   "nbconvert_exporter": "python",
   "pygments_lexer": "ipython3",
   "version": "3.8.8"
  }
 },
 "nbformat": 4,
 "nbformat_minor": 5
}
