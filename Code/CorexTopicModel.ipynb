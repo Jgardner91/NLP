{
 "cells": [
  {
   "cell_type": "markdown",
   "id": "historic-display",
   "metadata": {},
   "source": [
    "# Corex "
   ]
  },
  {
   "cell_type": "code",
   "execution_count": 1,
   "id": "electronic-canon",
   "metadata": {},
   "outputs": [],
   "source": [
    "import pandas as pd\n",
    "import numpy as np\n",
    "import nltk\n",
    "from nltk.corpus import stopwords\n",
    "\n",
    "from sklearn.feature_extraction.text import CountVectorizer, TfidfVectorizer, ENGLISH_STOP_WORDS\n",
    "from sklearn.decomposition import NMF, TruncatedSVD, LatentDirichletAllocation\n",
    "import warnings\n",
    "warnings.filterwarnings(\"ignore\")\n",
    "\n",
    "from corextopic import corextopic as ct\n",
    "from corextopic import vis_topic as vt"
   ]
  },
  {
   "cell_type": "code",
   "execution_count": 2,
   "id": "powered-terrorist",
   "metadata": {},
   "outputs": [],
   "source": [
    "# read in wine data\n",
    "# drop duplicates and fill na with zeros \n",
    "WINE = pd.read_csv('winedesc.csv')\n",
    "WINE.drop_duplicates(subset=['description'],inplace=True)\n",
    "WINE.fillna(0,inplace=True)\n",
    "shp = WINE.shape\n",
    "shp[0]\n",
    "WINES = WINE[['description','country','province','variety','price','title']]\n",
    "WINES.reset_index(inplace=True)\n",
    "del WINES['index']"
   ]
  },
  {
   "cell_type": "code",
   "execution_count": 11,
   "id": "expanded-fisher",
   "metadata": {},
   "outputs": [],
   "source": [
    "def augmented_corpus(WINE,shp):\n",
    "    TEXT = [[WINE['country'][i] for i in range(shp)],[WINE['province'][i] for i in range(shp)],\n",
    "            [WINE['variety'][i] for i in range(shp)]]\n",
    "   \n",
    "    # concatenate features into sentance to add to descriptions\n",
    "    TO_ADD = [\"This Wine is from \" + str(TEXT[0][j]) + \" in \" + str(TEXT[1][j]) + \n",
    "          \" and is a \" + str(TEXT[2][j]) for j in range(shp)]\n",
    "   \n",
    "\n",
    "    DESCRIPTIONS_PLUS = [WINE['description'][i] + \" \" + TO_ADD[i] for i in range(shp)]\n",
    "   \n",
    "    return DESCRIPTIONS_PLUS\n",
    "\n",
    "DP = augmented_corpus(WINES,shp[0])\n",
    "WINES[\"PlusDescriptions\"] = DP"
   ]
  },
  {
   "cell_type": "code",
   "execution_count": 12,
   "id": "backed-elite",
   "metadata": {},
   "outputs": [],
   "source": [
    "CORPUS1 = WINES['description']\n",
    "CORPUS2 = WINES['PlusDescriptions']"
   ]
  },
  {
   "cell_type": "code",
   "execution_count": 13,
   "id": "electric-improvement",
   "metadata": {},
   "outputs": [],
   "source": [
    "# augment english stop words list \n",
    "STOP = stopwords.words('english')\n",
    "STOP += ['notes','wine','drink','region','nan','nose',\n",
    "        'like','made','shows','parts','style','followed','amounts','mouth']"
   ]
  },
  {
   "cell_type": "code",
   "execution_count": 14,
   "id": "recognized-crazy",
   "metadata": {},
   "outputs": [
    {
     "data": {
      "text/plain": [
       "<119955x29948 sparse matrix of type '<class 'numpy.float64'>'\n",
       "\twith 3129297 stored elements in Compressed Sparse Row format>"
      ]
     },
     "execution_count": 14,
     "metadata": {},
     "output_type": "execute_result"
    }
   ],
   "source": [
    "# instantiate Tfid vectorizer\n",
    "TF_IDF = TfidfVectorizer(stop_words=STOP,token_pattern = r'(?u)\\b[A-Za-z]+\\b')\n",
    "\n",
    "# fit transform returns Sparse Matrix \n",
    "Description_Matrix = TF_IDF.fit_transform(CORPUS2)\n",
    "\n",
    "# words used\n",
    "words = TF_IDF.get_feature_names()\n",
    "\n",
    "Description_Matrix"
   ]
  },
  {
   "cell_type": "code",
   "execution_count": 20,
   "id": "above-homework",
   "metadata": {},
   "outputs": [
    {
     "name": "stdout",
     "output_type": "stream",
     "text": [
      "0: france,bordeaux,portugal,portuguese,fruits,burgundy,us,ready,wood,douro\n",
      "1: italy,tuscany,alongside,piedmont,nebbiolo,sangiovese,veneto,sicily,sardinia,opens\n",
      "2: spain,northern,argentina,mendoza,province,tempranillo,chile,feels,rubbery,herbal\n",
      "3: romania,plavac,mali,croatia,dealu,mare,viile,timisului,romanian,feteasca\n",
      "4: moselle,luxembourgeoise,luxembourg,brandi,giguiere,jl,gadd,coster,erdener,ehlen\n",
      "5: hank,beckmeyer,kaw,insania,tate,musar,geoff,suma,jeune,gps\n",
      "6: chumash,tribe,tara,gomez,descendent,sevtap,worker,quincy,quimera,quartz\n",
      "7: brussel,sprouts,ab,pleasureable,pleasurably,plasters,planning,planing,pizzerias,pixy\n",
      "8: abandoned,posted,posssibly,portet,portends,porer,popularized,politically,polarity,poivre\n",
      "9: abbott,potention,portugieser,portland,population,populated,populate,popularizing,pound,pony\n"
     ]
    }
   ],
   "source": [
    "# Initializing and fitting Corex Topic Model\n",
    "topic_model = ct.Corex(n_hidden=10, words=words, seed=89)\n",
    "topic_model.fit(Description_Matrix, words=words, docs=CORPUS2)\n",
    "\n",
    "# Topics \n",
    "topics = topic_model.get_topics()\n",
    "for n,topic in enumerate(topics):\n",
    "    topic_words,_,_ = zip(*topic)\n",
    "    print('{}: '.format(n) + ','.join(topic_words))"
   ]
  },
  {
   "cell_type": "code",
   "execution_count": 19,
   "id": "japanese-bulgarian",
   "metadata": {},
   "outputs": [
    {
     "data": {
      "text/plain": [
       "[('The second wine of fourth-growth Beychevelle is named after a 17th century owner, French Admiral de la Valette, who insisted passing ships in the Gironde estuary salute his riverfront property. The wine is a proper second wine, firm while also showing the way it will develop relatively quickly. Juicy black currants and generous tannins are balanced with acidity and a dry core. This fine wine will be ready to drink from 2021. This Wine is from France in Bordeaux and is a Bordeaux-style Red Blend',\n",
       "  -3.89910326248355e-13),\n",
       " (\"Taking its name from the Chevaliers d'Arce who guarded this land in the 12th and 13th centuries, the small property is now under the watchful eye of Sylviane Garcin-Cathiard. This wine is still young and just balancing out. Firm tannins are shot through with ripe berry fruits and with crisp acidity. It is a wine that is will mature well, so drink from 2019 and consider this property a rising star. This Wine is from France in Bordeaux and is a Bordeaux-style Red Blend\",\n",
       "  -9.308998016877013e-12),\n",
       " ('With vineyards south of the Michelin tire city of Clermont-Ferrand, this producer is on the edge of the volcanoes of the Puy de Dôme. The wine, lightly fruity with fresh wild-berry flavors, is soft and fruity, ready to drink young. Just wait until early 2018. This Wine is from France in Loire Valley and is a Pinot Noir',\n",
       "  -3.378097801487456e-11),\n",
       " ('This is a soft, fruity blend of Roupeiro, Rabo de Ovelha and Fernão Pires. It is ripe, full of apple and crisp green fruits, shot through with acidity. Drink now. This Wine is from Portugal in Alentejano and is a Portuguese White',\n",
       "  -3.551026139803071e-11),\n",
       " ('The continuing improvement at classed growth Camensac under the ownership of the Merlaut family (Chasse-Spleen, Citran, etc) is apparent even in the lesser vintage of 2007. The structure hangs well with the stalky but solid black berry fruit, the acidity a pure streak through it. Age over 4–5 years. This Wine is from France in Bordeaux and is a Bordeaux-style Red Blend',\n",
       "  -3.629629929946532e-11),\n",
       " (\"Named after Siza Vieira, the architect of the modern Adega Mayor winery, this dense, darkly colored wine is hugely ripe, with great fruits and rich coffee and spice flavors. It's a wine that perfectly fits the adjective opulent, powered by great fruits and dense tannins, with fine aging potential. Drink from 2017. This Wine is from Portugal in Alentejano and is a Alicante Bouschet\",\n",
       "  -6.009015507402182e-11),\n",
       " ('This richly structured wine comes from the the state-owned Companhia das Lezirias, the largest estate in Portugal. With equestrian events, wine, olive oil and an ecological sanctuary just east of Lisbon, the property merits a visit. Named for the barn owl that nests in estate forests, the wine is opulent, dense and packed with tannins and ripe black fruits. Give it time, at least until late 2018. This Wine is from Portugal in Tejo and is a Portuguese Red',\n",
       "  -6.710809685728236e-11),\n",
       " ('The Reserve version of this brand, this young wine is ripe and firm, with great potential. The Duas Quintas (two estates) are Ervamoira and Bons Ares, both in the Douro Superior. With attractive smoky flavors and ripe red-berry fruits it will become a rich wine. Drink from 2020. This Wine is from Portugal in Douro and is a Portuguese Red',\n",
       "  -7.02096158988752e-11),\n",
       " ('This Cabernet Sauvignon-Merlot dominated wine is dense with tannins, although with enough fruit richness to balance. It has a dark texture and shows plenty of wood flavors at this stage. Its weight will allow it to age well, so wait until 2022. The Bonnet family has renovated vineyards and installed a gravity-fed winery. They also own a winery in Argentina and nearby Gazin Rocquencourt. This Wine is from France in Bordeaux and is a Bordeaux-style Red Blend',\n",
       "  -8.343725710346916e-11),\n",
       " (\"A second wine from the Pintas range of Jorge Serodio and Sandra Tavares, this is a big, forward wine, pushing out ripe red plum and strawberry fruits. It's almost sweet in its ripeness. This Wine is from Portugal in Douro and is a Portuguese Red\",\n",
       "  -9.044143212122435e-11)]"
      ]
     },
     "execution_count": 19,
     "metadata": {},
     "output_type": "execute_result"
    }
   ],
   "source": [
    "# Let's check out topic : graphics\n",
    "topic_model.get_top_docs(topic=0, n_docs=10)"
   ]
  },
  {
   "cell_type": "code",
   "execution_count": null,
   "id": "undefined-height",
   "metadata": {},
   "outputs": [],
   "source": []
  }
 ],
 "metadata": {
  "kernelspec": {
   "display_name": "Python [conda env:metis] *",
   "language": "python",
   "name": "conda-env-metis-py"
  },
  "language_info": {
   "codemirror_mode": {
    "name": "ipython",
    "version": 3
   },
   "file_extension": ".py",
   "mimetype": "text/x-python",
   "name": "python",
   "nbconvert_exporter": "python",
   "pygments_lexer": "ipython3",
   "version": "3.8.8"
  }
 },
 "nbformat": 4,
 "nbformat_minor": 5
}
